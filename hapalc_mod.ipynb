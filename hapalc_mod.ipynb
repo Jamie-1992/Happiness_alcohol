{
 "cells": [
  {
   "cell_type": "markdown",
   "metadata": {},
   "source": [
    "# Happiness and alcohol consumption dataset "
   ]
  },
  {
   "cell_type": "code",
   "execution_count": 1,
   "metadata": {},
   "outputs": [
    {
     "data": {
      "text/html": [
       "<div>\n",
       "<style scoped>\n",
       "    .dataframe tbody tr th:only-of-type {\n",
       "        vertical-align: middle;\n",
       "    }\n",
       "\n",
       "    .dataframe tbody tr th {\n",
       "        vertical-align: top;\n",
       "    }\n",
       "\n",
       "    .dataframe thead th {\n",
       "        text-align: right;\n",
       "    }\n",
       "</style>\n",
       "<table border=\"1\" class=\"dataframe\">\n",
       "  <thead>\n",
       "    <tr style=\"text-align: right;\">\n",
       "      <th></th>\n",
       "      <th>HappinessScore</th>\n",
       "      <th>HDI</th>\n",
       "      <th>GDP_PerCapita</th>\n",
       "      <th>Beer_PerCapita</th>\n",
       "      <th>Spirit_PerCapita</th>\n",
       "      <th>Wine_PerCapita</th>\n",
       "    </tr>\n",
       "  </thead>\n",
       "  <tbody>\n",
       "    <tr>\n",
       "      <th>count</th>\n",
       "      <td>122.00</td>\n",
       "      <td>122.00</td>\n",
       "      <td>122.00</td>\n",
       "      <td>122.00</td>\n",
       "      <td>122.00</td>\n",
       "      <td>122.00</td>\n",
       "    </tr>\n",
       "    <tr>\n",
       "      <th>mean</th>\n",
       "      <td>5.52</td>\n",
       "      <td>740.88</td>\n",
       "      <td>91.48</td>\n",
       "      <td>137.57</td>\n",
       "      <td>96.60</td>\n",
       "      <td>66.60</td>\n",
       "    </tr>\n",
       "    <tr>\n",
       "      <th>std</th>\n",
       "      <td>1.15</td>\n",
       "      <td>149.85</td>\n",
       "      <td>209.58</td>\n",
       "      <td>104.82</td>\n",
       "      <td>81.44</td>\n",
       "      <td>88.12</td>\n",
       "    </tr>\n",
       "    <tr>\n",
       "      <th>min</th>\n",
       "      <td>3.07</td>\n",
       "      <td>351.00</td>\n",
       "      <td>1.03</td>\n",
       "      <td>1.00</td>\n",
       "      <td>1.00</td>\n",
       "      <td>1.00</td>\n",
       "    </tr>\n",
       "    <tr>\n",
       "      <th>25%</th>\n",
       "      <td>4.53</td>\n",
       "      <td>663.75</td>\n",
       "      <td>4.13</td>\n",
       "      <td>38.25</td>\n",
       "      <td>25.50</td>\n",
       "      <td>5.00</td>\n",
       "    </tr>\n",
       "    <tr>\n",
       "      <th>50%</th>\n",
       "      <td>5.54</td>\n",
       "      <td>757.50</td>\n",
       "      <td>12.02</td>\n",
       "      <td>125.50</td>\n",
       "      <td>82.50</td>\n",
       "      <td>16.00</td>\n",
       "    </tr>\n",
       "    <tr>\n",
       "      <th>75%</th>\n",
       "      <td>6.48</td>\n",
       "      <td>861.50</td>\n",
       "      <td>41.99</td>\n",
       "      <td>224.75</td>\n",
       "      <td>142.50</td>\n",
       "      <td>112.75</td>\n",
       "    </tr>\n",
       "    <tr>\n",
       "      <th>max</th>\n",
       "      <td>7.53</td>\n",
       "      <td>951.00</td>\n",
       "      <td>953.00</td>\n",
       "      <td>376.00</td>\n",
       "      <td>373.00</td>\n",
       "      <td>370.00</td>\n",
       "    </tr>\n",
       "  </tbody>\n",
       "</table>\n",
       "</div>"
      ],
      "text/plain": [
       "       HappinessScore     HDI  GDP_PerCapita  Beer_PerCapita  \\\n",
       "count          122.00  122.00         122.00          122.00   \n",
       "mean             5.52  740.88          91.48          137.57   \n",
       "std              1.15  149.85         209.58          104.82   \n",
       "min              3.07  351.00           1.03            1.00   \n",
       "25%              4.53  663.75           4.13           38.25   \n",
       "50%              5.54  757.50          12.02          125.50   \n",
       "75%              6.48  861.50          41.99          224.75   \n",
       "max              7.53  951.00         953.00          376.00   \n",
       "\n",
       "       Spirit_PerCapita  Wine_PerCapita  \n",
       "count            122.00          122.00  \n",
       "mean              96.60           66.60  \n",
       "std               81.44           88.12  \n",
       "min                1.00            1.00  \n",
       "25%               25.50            5.00  \n",
       "50%               82.50           16.00  \n",
       "75%              142.50          112.75  \n",
       "max              373.00          370.00  "
      ]
     },
     "execution_count": 1,
     "metadata": {},
     "output_type": "execute_result"
    }
   ],
   "source": [
    "import pandas as pd\n",
    "Hap_alc = pd.read_csv('HappinessAlcoholConsumption.csv')\n",
    "Hap_alc.shape\n",
    "Hap_alc.head(n=20)\n",
    "\n",
    "#Summary stats \n",
    "Hap_alc.describe().round(2)"
   ]
  },
  {
   "cell_type": "markdown",
   "metadata": {},
   "source": [
    "# Data visualisation"
   ]
  },
  {
   "cell_type": "code",
   "execution_count": 2,
   "metadata": {},
   "outputs": [
    {
     "data": {
      "image/png": "[encoded data removed]",
      "text/plain": [
       "<Figure size 432x288 with 1 Axes>"
      ]
     },
     "metadata": {
      "needs_background": "light"
     },
     "output_type": "display_data"
    },
    {
     "data": {
      "text/plain": [
       "array([[<matplotlib.axes._subplots.AxesSubplot object at 0x00000234DFEDEF40>]],\n",
       "      dtype=object)"
      ]
     },
     "execution_count": 2,
     "metadata": {},
     "output_type": "execute_result"
    },
    {
     "data": {
      "image/png": "[encoded data removed]",
      "text/plain": [
       "<Figure size 432x288 with 1 Axes>"
      ]
     },
     "metadata": {
      "needs_background": "light"
     },
     "output_type": "display_data"
    }
   ],
   "source": [
    "import matplotlib.pyplot as plt\n",
    "\n",
    "Hap_alc.hist(column = 'HappinessScore')\n",
    "plt.show()\n",
    "\n",
    "Hap_alc.hist(column = 'Beer_PerCapita') #only 5 countries that drink 350 litres of beer per average person. "
   ]
  },
  {
   "cell_type": "markdown",
   "metadata": {},
   "source": [
    "# Correlation matrix "
   ]
  },
  {
   "cell_type": "code",
   "execution_count": 3,
   "metadata": {},
   "outputs": [
    {
     "name": "stdout",
     "output_type": "stream",
     "text": [
      "                  HappinessScore   HDI  GDP_PerCapita  Beer_PerCapita  \\\n",
      "HappinessScore              1.00  0.82          -0.45            0.49   \n",
      "HDI                         0.82  1.00          -0.57            0.59   \n",
      "GDP_PerCapita              -0.45 -0.57           1.00           -0.37   \n",
      "Beer_PerCapita              0.49  0.59          -0.37            1.00   \n",
      "Spirit_PerCapita            0.26  0.39          -0.26            0.36   \n",
      "Wine_PerCapita              0.45  0.60          -0.20            0.47   \n",
      "\n",
      "                  Spirit_PerCapita  Wine_PerCapita  \n",
      "HappinessScore                0.26            0.45  \n",
      "HDI                           0.39            0.60  \n",
      "GDP_PerCapita                -0.26           -0.20  \n",
      "Beer_PerCapita                0.36            0.47  \n",
      "Spirit_PerCapita              1.00            0.12  \n",
      "Wine_PerCapita                0.12            1.00  \n"
     ]
    }
   ],
   "source": [
    "corr_matrix = Hap_alc.corr().round(2)\n",
    "print(corr_matrix)"
   ]
  },
  {
   "cell_type": "markdown",
   "metadata": {},
   "source": [
    "# Data preparation - feature selection"
   ]
  },
  {
   "cell_type": "code",
   "execution_count": 4,
   "metadata": {},
   "outputs": [
    {
     "name": "stdout",
     "output_type": "stream",
     "text": [
      "(122, 1)\n",
      "(122,)\n"
     ]
    },
    {
     "data": {
      "image/png": "[encoded data removed]",
      "text/plain": [
       "<Figure size 576x432 with 1 Axes>"
      ]
     },
     "metadata": {
      "needs_background": "light"
     },
     "output_type": "display_data"
    }
   ],
   "source": [
    "Hap_alc.plot(kind = 'scatter',\n",
    "            x = 'HappinessScore',\n",
    "            y = 'Beer_PerCapita',\n",
    "            figsize = (8,6))\n",
    "\n",
    "#Going to fit a simple linear regression on Happiness score and beer per capita \n",
    "\n",
    "X = Hap_alc[['HappinessScore']]\n",
    "Y = Hap_alc['Beer_PerCapita']\n",
    "\n",
    "print(X.shape)\n",
    "print(Y.shape)"
   ]
  },
  {
   "cell_type": "markdown",
   "metadata": {},
   "source": [
    "# Fitting a univariate linear regression"
   ]
  },
  {
   "cell_type": "markdown",
   "metadata": {},
   "source": [
    "## Instantiating a model "
   ]
  },
  {
   "cell_type": "code",
   "execution_count": 5,
   "metadata": {},
   "outputs": [],
   "source": [
    "from sklearn.linear_model import LinearRegression\n",
    "\n",
    "model = LinearRegression() #instance of class LinearRegression \n",
    "\n"
   ]
  },
  {
   "cell_type": "markdown",
   "metadata": {},
   "source": [
    "# Train-test split"
   ]
  },
  {
   "cell_type": "code",
   "execution_count": 6,
   "metadata": {},
   "outputs": [
    {
     "name": "stdout",
     "output_type": "stream",
     "text": [
      "(85, 1)\n",
      "(37, 1)\n",
      "(85,)\n",
      "(37,)\n"
     ]
    }
   ],
   "source": [
    "from sklearn.model_selection import train_test_split\n",
    "\n",
    "X_train, X_test, Y_train, Y_test = train_test_split(X, Y,\n",
    "                                                   test_size = 0.3,\n",
    "                                                   random_state = 1)\n",
    "\n",
    "print(X_train.shape)\n",
    "print(X_test.shape)\n",
    "print(Y_train.shape)\n",
    "print(Y_test.shape)\n",
    "\n",
    "\n"
   ]
  },
  {
   "cell_type": "markdown",
   "metadata": {},
   "source": [
    "# Fitting the model and parameter estimates "
   ]
  },
  {
   "cell_type": "code",
   "execution_count": 7,
   "metadata": {},
   "outputs": [
    {
     "name": "stdout",
     "output_type": "stream",
     "text": [
      "-119.76\n"
     ]
    },
    {
     "data": {
      "text/plain": [
       "array([45.74])"
      ]
     },
     "execution_count": 7,
     "metadata": {},
     "output_type": "execute_result"
    }
   ],
   "source": [
    "model.fit(X_train, Y_train)\n",
    "print(model.intercept_.round(2))\n",
    "model.coef_.round(2)\n",
    "\n"
   ]
  },
  {
   "cell_type": "markdown",
   "metadata": {},
   "source": [
    "# Prediction "
   ]
  },
  {
   "cell_type": "code",
   "execution_count": 8,
   "metadata": {},
   "outputs": [
    {
     "name": "stdout",
     "output_type": "stream",
     "text": [
      "[[5]]\n",
      "[108.96048554]\n",
      "[[108.96048554]]\n",
      "[149.99361844  57.08582255 116.41689654  68.75076    152.69256475\n",
      " 176.38839846 122.82117592 151.0914949   75.84121217 110.47006568\n",
      "  56.62837402 171.2192301   74.7433357   51.27622626  70.35182984\n",
      "  39.61128881 223.36836221  92.2636143   62.02626665 147.15743757\n",
      " 131.28397367 114.86157154 114.49561272 196.19591969 103.24237895\n",
      " 145.64785743 167.01070365 121.72329945  93.17851135  75.65823276\n",
      " 115.59348919 154.11065518  74.01141806 144.09253244 146.15105081\n",
      " 153.6074618  133.11376778]\n"
     ]
    },
    {
     "data": {
      "text/plain": [
       "(37,)"
      ]
     },
     "execution_count": 8,
     "metadata": {},
     "output_type": "execute_result"
    }
   ],
   "source": [
    "import numpy as np\n",
    "\n",
    "#Going to predict value when happiness score is 5\n",
    "\n",
    "Hap_score = np.array([5]).reshape(-1,1)\n",
    "print(Hap_score)\n",
    "print(model.predict(Hap_score))\n",
    "\n",
    "print(model.intercept_ + model.coef_* Hap_score) #same value\n",
    "\n",
    "#Testing set \n",
    "\n",
    "y_test_predicted = model.predict(X_test) #predicting the labels for the test set\n",
    "y_test_predicted.shape\n",
    "print(y_test_predicted) #shows predicted values for each data point\n",
    "Y_test.shape"
   ]
  },
  {
   "cell_type": "markdown",
   "metadata": {},
   "source": [
    "# Evaluating the model"
   ]
  },
  {
   "cell_type": "code",
   "execution_count": 9,
   "metadata": {},
   "outputs": [
    {
     "data": {
      "image/png": "[encoded data removed]",
      "text/plain": [
       "<Figure size 432x288 with 1 Axes>"
      ]
     },
     "metadata": {
      "needs_background": "light"
     },
     "output_type": "display_data"
    }
   ],
   "source": [
    "#Residuals \n",
    "plt.scatter(X_test, Y_test, label = 'testing data', color = 'red');\n",
    "plt.plot(X_test, y_test_predicted,\n",
    "        label = 'prediction', linewidth = 3, color = 'purple')\n",
    "plt.xlabel('Happiness')\n",
    "plt.ylabel('Beer per capita')\n",
    "plt.legend(loc = 'upper left')\n",
    "plt.show()"
   ]
  },
  {
   "cell_type": "markdown",
   "metadata": {},
   "source": [
    "# Calculating residuals "
   ]
  },
  {
   "cell_type": "code",
   "execution_count": 10,
   "metadata": {},
   "outputs": [
    {
     "data": {
      "image/png": "[encoded data removed]",
      "text/plain": [
       "<Figure size 432x288 with 1 Axes>"
      ]
     },
     "metadata": {
      "needs_background": "light"
     },
     "output_type": "display_data"
    }
   ],
   "source": [
    "residuals = Y_test - y_test_predicted\n",
    "#Plotting residuals \n",
    "\n",
    "plt.scatter(X_test, residuals)\n",
    "#plot horizontal line at y = 0\n",
    "\n",
    "plt.hlines(y = 0, \n",
    "          xmin = X_test.min(),\n",
    "          xmax = X_test.max(),\n",
    "           linestyle = '--')\n",
    "#set xlim\n",
    "plt.xlim(3.5,7.5)\n",
    "plt.xlabel('Happiness')\n",
    "plt.ylabel('residuals')\n",
    "plt.show()\n",
    "\n",
    "#Indicates model is doing okay\n",
    "# we want residuals to show no clear pattern, be scattered around the horizontal line of y = 0\n",
    "\n",
    "\n",
    "           "
   ]
  },
  {
   "cell_type": "markdown",
   "metadata": {},
   "source": [
    "## Mean squared error "
   ]
  },
  {
   "cell_type": "code",
   "execution_count": 11,
   "metadata": {},
   "outputs": [
    {
     "name": "stdout",
     "output_type": "stream",
     "text": [
      "9143.053116058281\n",
      "95.61931350965808\n"
     ]
    }
   ],
   "source": [
    "residuals.mean() #not good estimate because residuals will cancel each other. \n",
    "\n",
    "#MSE \n",
    "(residuals**2).mean()\n",
    "\n",
    "#or import function from module\n",
    "\n",
    "from sklearn.metrics import mean_squared_error\n",
    "MSE = mean_squared_error(Y_test, y_test_predicted)\n",
    "print(MSE)\n",
    "\n",
    "from math import sqrt\n",
    "\n",
    "print(sqrt(MSE)) #took square root to get RMSE which scales it to the dependent variable. RMSE is the overall difference between actual values and predicted values\n"
   ]
  },
  {
   "cell_type": "markdown",
   "metadata": {},
   "source": [
    "## R-squared "
   ]
  },
  {
   "cell_type": "code",
   "execution_count": 12,
   "metadata": {},
   "outputs": [
    {
     "data": {
      "text/plain": [
       "0.1677111880355947"
      ]
     },
     "execution_count": 12,
     "metadata": {},
     "output_type": "execute_result"
    }
   ],
   "source": [
    "model.score(X_test, Y_test) #this indicates the model is explaining 16% of total variance in the test set\n",
    "\n",
    "#total variation \n",
    "\n",
    "total_var = ((Y_test - Y_test.mean())**2).sum() #sum of squares of the difference between the response and mean of response\n",
    "\n",
    "fail_var = (residuals**2).sum() #variation the model fails to capture, sum of squares of residuals\n",
    "\n",
    "#proportion of total variance from data is calculated by\n",
    "\n",
    "1 - fail_var/total_var # a perfect model would explain all the variability in the data, here it explains 16%\n",
    "\n"
   ]
  },
  {
   "cell_type": "markdown",
   "metadata": {},
   "source": [
    "# Multiple linear regression"
   ]
  },
  {
   "cell_type": "code",
   "execution_count": 13,
   "metadata": {},
   "outputs": [
    {
     "name": "stdout",
     "output_type": "stream",
     "text": [
      "(122, 2)\n",
      "(122,)\n",
      "LinearRegression()\n"
     ]
    }
   ],
   "source": [
    "#Adding a new variable wine to the model \n",
    "\n",
    "X2 = Hap_alc[['HappinessScore', 'Wine_PerCapita']]\n",
    "Y = Hap_alc['Beer_PerCapita']\n",
    "\n",
    "print(X2.shape) \n",
    "print(Y.shape)\n",
    "\n",
    "X2_train, X2_test, Y_train, Y_test = train_test_split(X2, Y,\n",
    "                                                     test_size = 0.3,\n",
    "                                                     random_state = 1)\n",
    "model2 = LinearRegression()\n",
    "\n",
    "print(model2.fit(X2_train, Y_train))"
   ]
  },
  {
   "cell_type": "code",
   "execution_count": 14,
   "metadata": {},
   "outputs": [
    {
     "name": "stdout",
     "output_type": "stream",
     "text": [
      "[34.98793266  0.26927923]\n",
      "-77.73551304875781\n",
      "7524.44\n"
     ]
    },
    {
     "data": {
      "text/plain": [
       "86.74353001809415"
      ]
     },
     "execution_count": 14,
     "metadata": {},
     "output_type": "execute_result"
    }
   ],
   "source": [
    "print(model2.coef_)\n",
    "print(model2.intercept_)\n",
    "\n",
    "#the model is Beer_percapita = -77.735 + 34.987* HappinessScore + 0.269 * Wine_PerCapita\n",
    "\n",
    "y_test_predicted2 = model2.predict(X2_test)\n",
    "\n",
    "MSE2 = mean_squared_error(Y_test, y_test_predicted2).round(2) \n",
    "print(MSE2)\n",
    "sqrt(MSE2)\n",
    "\n",
    "#Note: model2 with wine added had lower MSE than first model 9143 indicating the addition of wine helped predict beer per capita"
   ]
  },
  {
   "cell_type": "markdown",
   "metadata": {},
   "source": [
    "#  R-squared"
   ]
  },
  {
   "cell_type": "code",
   "execution_count": 15,
   "metadata": {},
   "outputs": [
    {
     "data": {
      "text/plain": [
       "0.3150530561096885"
      ]
     },
     "execution_count": 15,
     "metadata": {},
     "output_type": "execute_result"
    }
   ],
   "source": [
    "residuals2 = Y_test - y_test_predicted2\n",
    "\n",
    "model2.score(X2_test, Y_test) \n",
    "\n",
    "#total variation \n",
    "total_var = ((Y_test - Y_test.mean())**2).sum() #sum of squares of the difference between the response and mean of response\n",
    "\n",
    "fail_var = (residuals2**2).sum() #variation the model fails to capture, sum of squares of residuals\n",
    "\n",
    "#proportion of total variance from data is calculated by\n",
    "\n",
    "1 - fail_var/total_var # a perfect model would explain all the variability in the data, here it explains 32%\n"
   ]
  },
  {
   "cell_type": "code",
   "execution_count": null,
   "metadata": {},
   "outputs": [],
   "source": []
  }
 ],
 "metadata": {
  "kernelspec": {
   "display_name": "Python 3",
   "language": "python",
   "name": "python3"
  },
  "language_info": {
   "codemirror_mode": {
    "name": "ipython",
    "version": 3
   },
   "file_extension": ".py",
   "mimetype": "text/x-python",
   "name": "python",
   "nbconvert_exporter": "python",
   "pygments_lexer": "ipython3",
   "version": "3.8.3"
  }
 },
 "nbformat": 4,
 "nbformat_minor": 4
}
